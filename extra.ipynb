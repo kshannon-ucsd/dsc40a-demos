{
 "cells": [
  {
   "cell_type": "code",
   "execution_count": 1,
   "metadata": {},
   "outputs": [],
   "source": [
    "# This is the data that is being used in the slides\n",
    "\n",
    "import pandas as pd\n",
    "\n",
    "def time_to_decimal(time_str):\n",
    "    if isinstance(time_str, float):\n",
    "        return time_str\n",
    "    hours, minutes = map(int, time_str.split(':'))\n",
    "    return hours + minutes / 60.0\n",
    "\n",
    "x = pd.read_csv('./data/commuting_port_orchard_driving.csv', usecols=[\"day_of_week\", \"home_departure_time\", \"work_arrival_time\"])\n",
    "x = x.dropna()\n",
    "\n",
    "x['home_departure_time'] = x['home_departure_time'].apply(time_to_decimal)\n",
    "x['work_arrival_time'] = x['work_arrival_time'].apply(time_to_decimal)\n",
    "\n",
    "x[\"commute_time\"] = (x[\"work_arrival_time\"] - x[\"home_departure_time\"]) * 60"
   ]
  },
  {
   "cell_type": "code",
   "execution_count": null,
   "metadata": {},
   "outputs": [],
   "source": []
  }
 ],
 "metadata": {
  "kernelspec": {
   "display_name": "Python 3",
   "language": "python",
   "name": "python3"
  },
  "language_info": {
   "codemirror_mode": {
    "name": "ipython",
    "version": 3
   },
   "file_extension": ".py",
   "mimetype": "text/x-python",
   "name": "python",
   "nbconvert_exporter": "python",
   "pygments_lexer": "ipython3",
   "version": "3.12.3"
  }
 },
 "nbformat": 4,
 "nbformat_minor": 2
}
